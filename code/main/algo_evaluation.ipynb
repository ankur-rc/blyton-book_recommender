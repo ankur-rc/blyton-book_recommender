{
 "cells": [
  {
   "cell_type": "markdown",
   "metadata": {},
   "source": [
    "### Evaluating Various Algorithms"
   ]
  },
  {
   "cell_type": "code",
   "execution_count": 1,
   "metadata": {
    "collapsed": true
   },
   "outputs": [],
   "source": [
    "from surprise import SVDpp\n",
    "from surprise import SVD\n",
    "from surprise import NMF\n",
    "from surprise import Dataset\n",
    "from surprise import Reader\n",
    "from surprise.model_selection import cross_validate"
   ]
  },
  {
   "cell_type": "code",
   "execution_count": 2,
   "metadata": {},
   "outputs": [
    {
     "name": "stdout",
     "output_type": "stream",
     "text": [
      "books\t\t    books_ratings.csv  refined_metadata.pkl\r\n",
      "books_lexile.tar    lexile.json        refined_ratings.csv\r\n",
      "books_meta.json.gz  lexile.pkl\r\n",
      "books_meta.pkl\t    merged_df.pkl\r\n"
     ]
    }
   ],
   "source": [
    "DATASET_PATH = '../../../datasets'\n",
    "!ls $DATASET_PATH"
   ]
  },
  {
   "cell_type": "code",
   "execution_count": 3,
   "metadata": {
    "collapsed": true
   },
   "outputs": [],
   "source": [
    "reader = Reader(line_format='user item rating timestamp', sep=',')\n",
    "data = Dataset.load_from_file(DATASET_PATH+'/refined_ratings.csv', reader=reader)"
   ]
  },
  {
   "cell_type": "markdown",
   "metadata": {},
   "source": [
    "### SVD"
   ]
  },
  {
   "cell_type": "code",
   "execution_count": 4,
   "metadata": {},
   "outputs": [
    {
     "name": "stdout",
     "output_type": "stream",
     "text": [
      "Evaluating RMSE, MAE of algorithm SVD on 5 split(s).\n",
      "\n",
      "                  Fold 1  Fold 2  Fold 3  Fold 4  Fold 5  Mean    Std     \n",
      "MAE (testset)     0.6081  0.6225  0.6150  0.6141  0.6174  0.6154  0.0047  \n",
      "RMSE (testset)    0.7935  0.8098  0.7990  0.8120  0.8091  0.8047  0.0072  \n",
      "Fit time          1.93    2.58    2.50    2.12    1.61    2.14    0.36    \n",
      "Test time         0.33    0.12    0.08    0.06    0.07    0.13    0.10    \n",
      "Evaluating RMSE, MAE of algorithm SVD on 5 split(s).\n",
      "\n",
      "                  Fold 1  Fold 2  Fold 3  Fold 4  Fold 5  Mean    Std     \n",
      "MAE (testset)     0.6089  0.6223  0.6129  0.6129  0.6230  0.6160  0.0056  \n",
      "RMSE (testset)    0.7960  0.8146  0.8003  0.8015  0.8174  0.8060  0.0084  \n",
      "Fit time          2.12    2.32    2.64    2.21    1.70    2.20    0.31    \n",
      "Test time         0.23    0.12    0.12    0.09    0.05    0.12    0.06    \n",
      "Evaluating RMSE, MAE of algorithm SVD on 5 split(s).\n",
      "\n",
      "                  Fold 1  Fold 2  Fold 3  Fold 4  Fold 5  Mean    Std     \n",
      "MAE (testset)     0.6204  0.6228  0.6142  0.6107  0.6094  0.6155  0.0053  \n",
      "RMSE (testset)    0.8181  0.8161  0.7934  0.7996  0.7944  0.8043  0.0107  \n",
      "Fit time          1.98    2.77    2.44    2.08    1.65    2.18    0.39    \n",
      "Test time         0.20    0.16    0.11    0.08    0.07    0.13    0.05    \n",
      "Evaluating RMSE, MAE of algorithm SVD on 5 split(s).\n",
      "\n",
      "                  Fold 1  Fold 2  Fold 3  Fold 4  Fold 5  Mean    Std     \n",
      "MAE (testset)     0.6192  0.6141  0.6171  0.6207  0.6052  0.6153  0.0055  \n",
      "RMSE (testset)    0.8119  0.7989  0.8093  0.8147  0.7874  0.8044  0.0100  \n",
      "Fit time          2.31    2.82    3.03    2.35    1.89    2.48    0.40    \n",
      "Test time         0.13    0.12    0.12    0.08    0.07    0.10    0.02    \n",
      "1 loop, best of 3: 6.94 s per loop\n"
     ]
    }
   ],
   "source": [
    "%%timeit\n",
    "\n",
    "# We'll use the famous SVD algorithm.\n",
    "algo = SVD()\n",
    "\n",
    "# Run 5-fold cross-validation and print results\n",
    "cross_validate(algo, data, measures=['RMSE', 'MAE'], cv=5, verbose=True)"
   ]
  },
  {
   "cell_type": "markdown",
   "metadata": {},
   "source": [
    "### SVD++"
   ]
  },
  {
   "cell_type": "code",
   "execution_count": 6,
   "metadata": {},
   "outputs": [
    {
     "name": "stdout",
     "output_type": "stream",
     "text": [
      "Evaluating RMSE, MAE of algorithm SVDpp on 5 split(s).\n",
      "\n",
      "                  Fold 1  Fold 2  Fold 3  Fold 4  Fold 5  Mean    Std     \n",
      "MAE (testset)     0.5992  0.6077  0.6182  0.5996  0.6041  0.6058  0.0069  \n",
      "RMSE (testset)    0.7853  0.8018  0.8186  0.7905  0.7978  0.7988  0.0114  \n",
      "Fit time          24.08   23.74   25.26   24.76   22.22   24.01   1.04    \n",
      "Test time         0.62    0.50    0.54    0.35    0.50    0.50    0.09    \n",
      "Evaluating RMSE, MAE of algorithm SVDpp on 5 split(s).\n",
      "\n",
      "                  Fold 1  Fold 2  Fold 3  Fold 4  Fold 5  Mean    Std     \n",
      "MAE (testset)     0.6013  0.6142  0.6047  0.6029  0.6037  0.6054  0.0046  \n",
      "RMSE (testset)    0.7928  0.8134  0.7989  0.7947  0.7981  0.7996  0.0073  \n",
      "Fit time          33.42   31.85   33.11   32.80   15.73   29.38   6.85    \n",
      "Test time         0.63    0.53    0.35    0.32    0.30    0.43    0.13    \n",
      "Evaluating RMSE, MAE of algorithm SVDpp on 5 split(s).\n",
      "\n",
      "                  Fold 1  Fold 2  Fold 3  Fold 4  Fold 5  Mean    Std     \n",
      "MAE (testset)     0.6013  0.6057  0.6102  0.6107  0.6047  0.6065  0.0035  \n",
      "RMSE (testset)    0.7958  0.7987  0.8012  0.8036  0.8009  0.8000  0.0026  \n",
      "Fit time          34.89   36.06   34.87   35.24   16.37   31.49   7.57    \n",
      "Test time         0.62    0.60    0.62    0.41    0.32    0.52    0.13    \n",
      "Evaluating RMSE, MAE of algorithm SVDpp on 5 split(s).\n",
      "\n",
      "                  Fold 1  Fold 2  Fold 3  Fold 4  Fold 5  Mean    Std     \n",
      "MAE (testset)     0.6107  0.6034  0.6007  0.6096  0.6033  0.6055  0.0039  \n",
      "RMSE (testset)    0.8106  0.7996  0.7892  0.8055  0.7916  0.7993  0.0081  \n",
      "Fit time          26.64   29.76   27.98   29.15   16.44   25.99   4.90    \n",
      "Test time         0.55    0.33    0.57    0.31    0.30    0.41    0.12    \n",
      "1 loop, best of 3: 45.3 s per loop\n"
     ]
    }
   ],
   "source": [
    "%%timeit\n",
    "\n",
    "algo_svdpp =  SVDpp()\n",
    "# Run 5-fold cross-validation and print results\n",
    "cross_validate(algo_svdpp, data, measures=['RMSE', 'MAE'], cv=5, verbose=True)"
   ]
  },
  {
   "cell_type": "markdown",
   "metadata": {},
   "source": [
    "### Non-negative Matrix Factorization"
   ]
  },
  {
   "cell_type": "code",
   "execution_count": 8,
   "metadata": {},
   "outputs": [
    {
     "name": "stdout",
     "output_type": "stream",
     "text": [
      "Evaluating RMSE, MAE of algorithm NMF on 5 split(s).\n",
      "\n",
      "                  Fold 1  Fold 2  Fold 3  Fold 4  Fold 5  Mean    Std     \n",
      "MAE (testset)     0.7558  0.7540  0.7537  0.7476  0.7451  0.7512  0.0041  \n",
      "RMSE (testset)    0.9666  0.9684  0.9649  0.9656  0.9608  0.9653  0.0025  \n",
      "Fit time          5.38    6.36    5.77    5.16    4.17    5.37    0.72    \n",
      "Test time         0.14    0.12    0.13    0.08    0.08    0.11    0.02    \n",
      "Evaluating RMSE, MAE of algorithm NMF on 5 split(s).\n",
      "\n",
      "                  Fold 1  Fold 2  Fold 3  Fold 4  Fold 5  Mean    Std     \n",
      "MAE (testset)     0.7483  0.7519  0.7394  0.7441  0.7530  0.7473  0.0050  \n",
      "RMSE (testset)    0.9611  0.9684  0.9533  0.9575  0.9636  0.9608  0.0052  \n",
      "Fit time          3.70    4.66    4.32    4.06    3.24    4.00    0.49    \n",
      "Test time         0.20    0.13    0.07    0.07    0.06    0.10    0.05    \n",
      "Evaluating RMSE, MAE of algorithm NMF on 5 split(s).\n",
      "\n",
      "                  Fold 1  Fold 2  Fold 3  Fold 4  Fold 5  Mean    Std     \n",
      "MAE (testset)     0.7454  0.7520  0.7521  0.7540  0.7475  0.7502  0.0032  \n",
      "RMSE (testset)    0.9624  0.9618  0.9647  0.9675  0.9586  0.9630  0.0030  \n",
      "Fit time          4.25    3.99    4.44    3.64    3.26    3.92    0.42    \n",
      "Test time         0.11    0.11    0.11    0.07    0.08    0.09    0.02    \n",
      "Evaluating RMSE, MAE of algorithm NMF on 5 split(s).\n",
      "\n",
      "                  Fold 1  Fold 2  Fold 3  Fold 4  Fold 5  Mean    Std     \n",
      "MAE (testset)     0.7447  0.7364  0.7606  0.7515  0.7489  0.7484  0.0080  \n",
      "RMSE (testset)    0.9607  0.9497  0.9779  0.9726  0.9563  0.9634  0.0104  \n",
      "Fit time          5.06    6.03    5.66    5.25    4.18    5.24    0.63    \n",
      "Test time         0.16    0.17    0.11    0.09    0.07    0.12    0.04    \n",
      "1 loop, best of 3: 9.33 s per loop\n"
     ]
    }
   ],
   "source": [
    "%%timeit\n",
    "\n",
    "algo_nmf =  NMF()\n",
    "# Run 5-fold cross-validation and print results\n",
    "cross_validate(algo_nmf, data, measures=['RMSE', 'MAE'], cv=5, verbose=True)"
   ]
  },
  {
   "cell_type": "markdown",
   "metadata": {},
   "source": [
    "### Probabilistic Matrix Factorization"
   ]
  },
  {
   "cell_type": "code",
   "execution_count": 9,
   "metadata": {},
   "outputs": [
    {
     "name": "stdout",
     "output_type": "stream",
     "text": [
      "Evaluating RMSE, MAE of algorithm SVD on 5 split(s).\n",
      "\n",
      "                  Fold 1  Fold 2  Fold 3  Fold 4  Fold 5  Mean    Std     \n",
      "MAE (testset)     2.1200  2.1006  2.0880  2.0813  2.1092  2.0998  0.0140  \n",
      "RMSE (testset)    2.4647  2.4452  2.4327  2.4308  2.4578  2.4462  0.0134  \n",
      "Fit time          2.76    3.56    3.43    2.98    2.40    3.03    0.43    \n",
      "Test time         0.14    0.17    0.11    0.10    0.08    0.12    0.03    \n",
      "Evaluating RMSE, MAE of algorithm SVD on 5 split(s).\n",
      "\n",
      "                  Fold 1  Fold 2  Fold 3  Fold 4  Fold 5  Mean    Std     \n",
      "MAE (testset)     2.1116  2.0622  2.0637  2.0672  2.0971  2.0803  0.0202  \n",
      "RMSE (testset)    2.4585  2.4171  2.4157  2.4201  2.4411  2.4305  0.0168  \n",
      "Fit time          2.81    3.50    3.63    2.92    2.35    3.04    0.47    \n",
      "Test time         0.16    0.14    0.12    0.10    0.08    0.12    0.03    \n",
      "Evaluating RMSE, MAE of algorithm SVD on 5 split(s).\n",
      "\n",
      "                  Fold 1  Fold 2  Fold 3  Fold 4  Fold 5  Mean    Std     \n",
      "MAE (testset)     2.1077  2.0866  2.0646  2.1108  2.1186  2.0977  0.0197  \n",
      "RMSE (testset)    2.4593  2.4375  2.4166  2.4556  2.4579  2.4454  0.0164  \n",
      "Fit time          2.55    3.54    3.61    2.93    2.33    2.99    0.51    \n",
      "Test time         0.16    0.14    0.11    0.09    0.07    0.11    0.03    \n",
      "Evaluating RMSE, MAE of algorithm SVD on 5 split(s).\n",
      "\n",
      "                  Fold 1  Fold 2  Fold 3  Fold 4  Fold 5  Mean    Std     \n",
      "MAE (testset)     2.1114  2.1265  2.1492  2.1231  2.1015  2.1223  0.0161  \n",
      "RMSE (testset)    2.4578  2.4661  2.4880  2.4727  2.4442  2.4658  0.0146  \n",
      "Fit time          3.19    3.44    3.38    2.58    2.21    2.96    0.48    \n",
      "Test time         0.16    0.11    0.13    0.09    0.08    0.12    0.03    \n",
      "1 loop, best of 3: 9.24 s per loop\n"
     ]
    }
   ],
   "source": [
    "%%timeit\n",
    "\n",
    "# We'll use the famous SVD algorithm.\n",
    "algo_pmf = SVD(biased=False)\n",
    "\n",
    "# Run 5-fold cross-validation and print results\n",
    "cross_validate(algo_pmf, data, measures=['RMSE', 'MAE'], cv=5, verbose=True)"
   ]
  },
  {
   "cell_type": "markdown",
   "metadata": {},
   "source": [
    "### __Conclusion__: **SVD++** > **SVD** > **NMF** > **PMF**"
   ]
  }
 ],
 "metadata": {
  "kernelspec": {
   "display_name": "cs670 (Python 2)",
   "language": "python",
   "name": "cs670"
  },
  "language_info": {
   "codemirror_mode": {
    "name": "ipython",
    "version": 2
   },
   "file_extension": ".py",
   "mimetype": "text/x-python",
   "name": "python",
   "nbconvert_exporter": "python",
   "pygments_lexer": "ipython2",
   "version": "2.7.14"
  }
 },
 "nbformat": 4,
 "nbformat_minor": 2
}
