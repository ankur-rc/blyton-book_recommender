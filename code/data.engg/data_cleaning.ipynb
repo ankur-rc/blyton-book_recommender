{
 "cells": [
  {
   "cell_type": "markdown",
   "metadata": {},
   "source": [
    "## Data Cleaning"
   ]
  },
  {
   "cell_type": "code",
   "execution_count": 1,
   "metadata": {
    "collapsed": true
   },
   "outputs": [],
   "source": [
    "import pandas as pd\n",
    "import numpy as np\n",
    "import matplotlib as plt\n",
    "import seaborn\n",
    "import json\n",
    "import gzip"
   ]
  },
  {
   "cell_type": "code",
   "execution_count": 3,
   "metadata": {
    "collapsed": true
   },
   "outputs": [],
   "source": [
    "%matplotlib inline"
   ]
  },
  {
   "cell_type": "code",
   "execution_count": 2,
   "metadata": {},
   "outputs": [
    {
     "name": "stdout",
     "output_type": "stream",
     "text": [
      "books\t\t  books_meta.json.gz  books_ratings.csv  lexile.pkl\r\n",
      "books_lexile.tar  books_meta.pkl      lexile.json\r\n"
     ]
    }
   ],
   "source": [
    "DATASET_PATH = '../../../datasets'\n",
    "!ls $DATASET_PATH"
   ]
  },
  {
   "cell_type": "markdown",
   "metadata": {},
   "source": [
    "### Cleaning 'Lexile Ratings'"
   ]
  },
  {
   "cell_type": "code",
   "execution_count": 25,
   "metadata": {
    "collapsed": true
   },
   "outputs": [],
   "source": [
    "lexile_files = []\n",
    "for i in range(0, 675):\n",
    "    file_name = DATASET_PATH+'/books/books_'+str(i)+'.txt'\n",
    "    lexile_files.append(file_name)"
   ]
  },
  {
   "cell_type": "code",
   "execution_count": 39,
   "metadata": {},
   "outputs": [
    {
     "data": {
      "text/plain": [
       "(48552, 4)"
      ]
     },
     "execution_count": 39,
     "metadata": {},
     "output_type": "execute_result"
    }
   ],
   "source": [
    "frames  = []\n",
    "for lex_file in lexile_files:\n",
    "    df = pd.read_json(lex_file)\n",
    "    df = df[['title_s','englishLexileLevel_s', 'authors_s', 'imageLinks_ss']]\n",
    "    frames.append(df)\n",
    "super_df = pd.concat(frames) \n",
    "super_df.rename(index=str, columns={'title_s': 'title', 'englishLexileLevel_s': 'lexile', 'authors_s':'authors', 'imageLinks_ss':'imUrl_sch' }, inplace=True)\n",
    "super_df.shape"
   ]
  },
  {
   "cell_type": "code",
   "execution_count": 40,
   "metadata": {
    "collapsed": true
   },
   "outputs": [],
   "source": [
    "super_df.to_json(path_or_buf=DATASET_PATH+'/lexile.json', orient='records')"
   ]
  },
  {
   "cell_type": "code",
   "execution_count": 38,
   "metadata": {},
   "outputs": [
    {
     "data": {
      "text/plain": [
       "Index([u'DRA_Level_f', u'DRA_Level_s', u'English_Guided_Reading_Level_s',\n",
       "       u'Grade_Level_Equivalent_f', u'Grade_Level_Equivalent_s', u'ISBN13_s',\n",
       "       u'ISBN_13_s', u'OurPrice_f', u'ProductType_s', u'authors_s',\n",
       "       u'availabilityText_s', u'cartButtonText_s', u'englishLexileLevel_s',\n",
       "       u'format', u'grade_ss_dp', u'grades_ss', u'id', u'imageLinks_ss',\n",
       "       u'language_s', u'searchImage', u'stockAvailability', u'teachers_ss_dp',\n",
       "       u'title_s', u'type_s', u'wishListErrorMessage_s', u'workTitle_s',\n",
       "       u'workURL_s'],\n",
       "      dtype='object')"
      ]
     },
     "execution_count": 38,
     "metadata": {},
     "output_type": "execute_result"
    }
   ],
   "source": [
    "super_df.columns"
   ]
  },
  {
   "cell_type": "markdown",
   "metadata": {},
   "source": [
    "#### Checkpoint 1 <--- execute this after restart"
   ]
  },
  {
   "cell_type": "code",
   "execution_count": 41,
   "metadata": {
    "collapsed": true
   },
   "outputs": [],
   "source": [
    "lexile_df = pd.read_json(DATASET_PATH+'/lexile.json')"
   ]
  },
  {
   "cell_type": "markdown",
   "metadata": {},
   "source": [
    "### Cleaning 'Metadata'"
   ]
  },
  {
   "cell_type": "code",
   "execution_count": 19,
   "metadata": {},
   "outputs": [
    {
     "name": "stdout",
     "output_type": "stream",
     "text": [
      "CPU times: user 6min 5s, sys: 6.95 s, total: 6min 12s\n",
      "Wall time: 6min 13s\n"
     ]
    }
   ],
   "source": [
    "%%time\n",
    "\n",
    "def parse(path):\n",
    "    g = gzip.open(path, 'rb')\n",
    "    for l in g:\n",
    "        yield eval(l)\n",
    "\n",
    "def getDF(path):\n",
    "    i = 0\n",
    "    df = {}\n",
    "    for d in parse(path):\n",
    "        df[i] = d\n",
    "        i += 1\n",
    "    return pd.DataFrame.from_dict(df, orient='index')\n",
    "\n",
    "metadata_df = getDF(DATASET_PATH+'/books_meta.json.gz');"
   ]
  },
  {
   "cell_type": "code",
   "execution_count": 20,
   "metadata": {},
   "outputs": [
    {
     "data": {
      "text/plain": [
       "Index([u'asin', u'salesRank', u'imUrl', u'categories', u'title',\n",
       "       u'description', u'related', u'price', u'brand'],\n",
       "      dtype='object')"
      ]
     },
     "execution_count": 20,
     "metadata": {},
     "output_type": "execute_result"
    }
   ],
   "source": [
    "metadata_df.columns"
   ]
  },
  {
   "cell_type": "code",
   "execution_count": 22,
   "metadata": {
    "collapsed": true
   },
   "outputs": [],
   "source": [
    "metadata_df = metadata_df[['asin', 'title', 'imUrl']]"
   ]
  },
  {
   "cell_type": "code",
   "execution_count": 23,
   "metadata": {
    "collapsed": true
   },
   "outputs": [],
   "source": [
    "metadata_df.to_pickle(path=DATASET_PATH+'/books_meta.pkl')"
   ]
  },
  {
   "cell_type": "markdown",
   "metadata": {},
   "source": [
    "#### Checkpoint 2 <--- Execute this after restart"
   ]
  },
  {
   "cell_type": "code",
   "execution_count": 4,
   "metadata": {},
   "outputs": [
    {
     "name": "stdout",
     "output_type": "stream",
     "text": [
      "CPU times: user 1.69 s, sys: 411 ms, total: 2.1 s\n",
      "Wall time: 2.12 s\n"
     ]
    }
   ],
   "source": [
    "%%time\n",
    "\n",
    "metadata_df = pd.read_pickle(DATASET_PATH+'/books_meta.pkl');"
   ]
  },
  {
   "cell_type": "markdown",
   "metadata": {},
   "source": [
    "### Merging Lexile and Metadata"
   ]
  },
  {
   "cell_type": "code",
   "execution_count": 35,
   "metadata": {},
   "outputs": [
    {
     "name": "stdout",
     "output_type": "stream",
     "text": [
      "MetaData-> Total Titles:  2370585 \tUnique Titles: 1860814\n"
     ]
    }
   ],
   "source": [
    "print 'MetaData-> Total Titles: ', metadata_df['title'].size, '\\tUnique Titles:', metadata_df['title'].unique().size"
   ]
  },
  {
   "cell_type": "code",
   "execution_count": 36,
   "metadata": {
    "collapsed": true
   },
   "outputs": [],
   "source": [
    "uni_meta_titles = metadata_df['title'].unique()"
   ]
  },
  {
   "cell_type": "code",
   "execution_count": 37,
   "metadata": {},
   "outputs": [
    {
     "name": "stdout",
     "output_type": "stream",
     "text": [
      "Lexile-> Total Titles:  48552 \tUnique Titles: 45900\n"
     ]
    }
   ],
   "source": [
    "print 'Lexile-> Total Titles: ', lexile_df['title'].size, '\\tUnique Titles:',lexile_df['title'].unique().size "
   ]
  },
  {
   "cell_type": "code",
   "execution_count": 38,
   "metadata": {
    "collapsed": true
   },
   "outputs": [],
   "source": [
    "uni_lexile_titles = lexile_df['title'].unique()"
   ]
  },
  {
   "cell_type": "code",
   "execution_count": 42,
   "metadata": {
    "collapsed": true
   },
   "outputs": [],
   "source": [
    "common_titles = set(uni_meta_titles).intersection(set(uni_lexile_titles))"
   ]
  },
  {
   "cell_type": "code",
   "execution_count": 43,
   "metadata": {},
   "outputs": [
    {
     "data": {
      "text/plain": [
       "9910"
      ]
     },
     "execution_count": 43,
     "metadata": {},
     "output_type": "execute_result"
    }
   ],
   "source": [
    "len(common_titles)"
   ]
  },
  {
   "cell_type": "code",
   "execution_count": 43,
   "metadata": {},
   "outputs": [],
   "source": [
    "deduplicated_metadata = metadata_df.drop_duplicates(subset=['title'])"
   ]
  },
  {
   "cell_type": "code",
   "execution_count": 44,
   "metadata": {
    "collapsed": true
   },
   "outputs": [],
   "source": [
    "deduplicated_lexile = lexile_df.drop_duplicates(subset=['title'])"
   ]
  },
  {
   "cell_type": "code",
   "execution_count": 45,
   "metadata": {
    "collapsed": true
   },
   "outputs": [],
   "source": [
    "merged_df = pd.merge(deduplicated_metadata, deduplicated_lexile, on=['title'])"
   ]
  },
  {
   "cell_type": "code",
   "execution_count": 46,
   "metadata": {},
   "outputs": [
    {
     "data": {
      "text/plain": [
       "9910"
      ]
     },
     "execution_count": 46,
     "metadata": {},
     "output_type": "execute_result"
    }
   ],
   "source": [
    "len(merged_df)"
   ]
  },
  {
   "cell_type": "code",
   "execution_count": 47,
   "metadata": {},
   "outputs": [],
   "source": [
    "pd.to_pickle(merged_df, DATASET_PATH+'/merged_df.pkl')"
   ]
  },
  {
   "cell_type": "code",
   "execution_count": 48,
   "metadata": {},
   "outputs": [
    {
     "data": {
      "text/plain": [
       "Index([u'asin', u'title', u'imUrl', u'authors', u'imUrl_sch', u'lexile'], dtype='object')"
      ]
     },
     "execution_count": 48,
     "metadata": {},
     "output_type": "execute_result"
    }
   ],
   "source": [
    "merged_df.columns"
   ]
  },
  {
   "cell_type": "code",
   "execution_count": 49,
   "metadata": {
    "collapsed": true
   },
   "outputs": [],
   "source": [
    "merged_df = pd.read_pickle(DATASET_PATH+\"/merged_df.pkl\")"
   ]
  }
 ],
 "metadata": {
  "kernelspec": {
   "display_name": "cs670 (Python 2)",
   "language": "python",
   "name": "cs670"
  },
  "language_info": {
   "codemirror_mode": {
    "name": "ipython",
    "version": 2
   },
   "file_extension": ".py",
   "mimetype": "text/x-python",
   "name": "python",
   "nbconvert_exporter": "python",
   "pygments_lexer": "ipython2",
   "version": "2.7.14"
  }
 },
 "nbformat": 4,
 "nbformat_minor": 2
}
